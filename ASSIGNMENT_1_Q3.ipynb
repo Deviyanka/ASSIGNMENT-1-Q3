{
  "nbformat": 4,
  "nbformat_minor": 0,
  "metadata": {
    "colab": {
      "provenance": []
    },
    "kernelspec": {
      "name": "python3",
      "display_name": "Python 3"
    },
    "language_info": {
      "name": "python"
    }
  },
  "cells": [
    {
      "cell_type": "markdown",
      "source": [
        "________________________________________________________________________________\n",
        "\n",
        "# **ASSIGNMENT - 1**\n",
        "________________________________________________________________________________"
      ],
      "metadata": {
        "id": "b8tySSkWRNae"
      }
    },
    {
      "cell_type": "markdown",
      "source": [
        "# **3.** S1 is a set defined as S1= [10, 20, 30, 40, 50, 60].\n",
        "# S2 is a set defined as S2= [40, 50, 60, 70, 80, 90].\n",
        "\n",
        "\n",
        ""
      ],
      "metadata": {
        "id": "A5B7qcOeRdo3"
      }
    },
    {
      "cell_type": "markdown",
      "source": [
        "________________________________________________________________________________\n",
        "# 3.a                      WAP to add 55 and 66 in Set S1.\n",
        "________________________________________________________________________________"
      ],
      "metadata": {
        "id": "nMmRV-VXSJ8G"
      }
    },
    {
      "cell_type": "code",
      "source": [
        "S1 = set([10,20,30,40,50,60])\n",
        "print(\"ORIGINAL SET S1 ---> \",S1)\n",
        "S1.add(55)\n",
        "S1.add(66)\n",
        "print(\"SET AFTER ADDING ELEMENTS ---> \",S1)"
      ],
      "metadata": {
        "colab": {
          "base_uri": "https://localhost:8080/"
        },
        "id": "Iy6zf3VsXlxq",
        "outputId": "d38c9b71-5512-4514-fd36-5b962d69a8ee"
      },
      "execution_count": 2,
      "outputs": [
        {
          "output_type": "stream",
          "name": "stdout",
          "text": [
            "ORIGINAL SET S1 --->  {40, 10, 50, 20, 60, 30}\n",
            "SET AFTER ADDING ELEMENTS --->  {66, 40, 10, 50, 20, 55, 60, 30}\n"
          ]
        }
      ]
    },
    {
      "cell_type": "markdown",
      "source": [
        "________________________________________________________________________________\n",
        "# 3.b WAP to remove 10 and 30 from Set S1.\n",
        "________________________________________________________________________________"
      ],
      "metadata": {
        "id": "t5ds6iI2Zjm6"
      }
    },
    {
      "cell_type": "code",
      "source": [
        "S1 = set([10,20,30,40,50,60])\n",
        "print(\"ORIGINAL SET S1 ---> \",S1)\n",
        "S1.remove(10)\n",
        "S1.remove(30)\n",
        "print(\"SET AFTER DELETING ELEMENTS ---> \",S1)"
      ],
      "metadata": {
        "colab": {
          "base_uri": "https://localhost:8080/"
        },
        "id": "mLvw846IWCvJ",
        "outputId": "76719d36-a587-470a-e52a-3a782f0196a4"
      },
      "execution_count": 3,
      "outputs": [
        {
          "output_type": "stream",
          "name": "stdout",
          "text": [
            "ORIGINAL SET S1 --->  {40, 10, 50, 20, 60, 30}\n",
            "SET AFTER DELETING ELEMENTS --->  {40, 50, 20, 60}\n"
          ]
        }
      ]
    },
    {
      "cell_type": "markdown",
      "source": [
        "________________________________________________________________________________\n",
        "# 3.c WAP to check whether 40 is present in S1.\n",
        "________________________________________________________________________________"
      ],
      "metadata": {
        "id": "LYpwJD6AbLRJ"
      }
    },
    {
      "cell_type": "code",
      "source": [
        "S1 = set([10,20,30,40,50,60])\n",
        "print(\"ORIGINAL SET S1 ---> \",S1)\n",
        "print(\"IS 40 PRESENT IN S1 ---> \", 40 in S1)"
      ],
      "metadata": {
        "colab": {
          "base_uri": "https://localhost:8080/"
        },
        "id": "_WIpqFzObhtP",
        "outputId": "9912756d-48c0-4602-f6a7-3937322ef767"
      },
      "execution_count": 9,
      "outputs": [
        {
          "output_type": "stream",
          "name": "stdout",
          "text": [
            "ORIGINAL SET S1 --->  {40, 10, 50, 20, 60, 30}\n",
            "IS 40 PRESENT IN S1 --->  True\n"
          ]
        }
      ]
    },
    {
      "cell_type": "markdown",
      "source": [
        "________________________________________________________________________________\n",
        "# 3.d WAP to find the union between S1 and S2.\n",
        "________________________________________________________________________________"
      ],
      "metadata": {
        "id": "JFoAaELrcazt"
      }
    },
    {
      "cell_type": "code",
      "source": [
        "S1 = set([10,20,30,40,50,60])\n",
        "S2 = set([40,50,60,70,80,90])\n",
        "print(\"ORIGINAL SET S1 ---> \",S1)\n",
        "print(\"ORIGINAL SET S2 ---> \",S2)\n",
        "print(\"UNION OF S1 AND S2 ---> \",S1.union(S2))"
      ],
      "metadata": {
        "colab": {
          "base_uri": "https://localhost:8080/"
        },
        "id": "8q2x5YuacogY",
        "outputId": "043fc9f0-b4fb-4c62-b1c4-ac23b3c289c6"
      },
      "execution_count": 10,
      "outputs": [
        {
          "output_type": "stream",
          "name": "stdout",
          "text": [
            "ORIGINAL SET S1 --->  {40, 10, 50, 20, 60, 30}\n",
            "ORIGINAL SET S2 --->  {70, 40, 80, 50, 90, 60}\n",
            "UNION OF S1 AND S2 --->  {70, 40, 10, 80, 50, 20, 90, 60, 30}\n"
          ]
        }
      ]
    },
    {
      "cell_type": "markdown",
      "source": [
        "________________________________________________________________________________\n",
        "# 3.e WAP to find the intersection between S1 and S2.\n",
        "________________________________________________________________________________"
      ],
      "metadata": {
        "id": "YcHL55RRdePn"
      }
    },
    {
      "cell_type": "code",
      "source": [
        "S1 = set([10,20,30,40,50,60])\n",
        "S2 = set([40,50,60,70,80,90])\n",
        "print(\"ORIGINAL SET S1 ---> \",S1)\n",
        "print(\"ORIGINAL SET S2 ---> \",S2)\n",
        "print(\"INTERSECTION OF S1 AND S2 ---> \",S1.intersection(S2))"
      ],
      "metadata": {
        "colab": {
          "base_uri": "https://localhost:8080/"
        },
        "id": "8U1DrCcudp8Q",
        "outputId": "e0c17c27-8fca-4942-fb8a-8ae0d95744e2"
      },
      "execution_count": 11,
      "outputs": [
        {
          "output_type": "stream",
          "name": "stdout",
          "text": [
            "ORIGINAL SET S1 --->  {40, 10, 50, 20, 60, 30}\n",
            "ORIGINAL SET S2 --->  {70, 40, 80, 50, 90, 60}\n",
            "INTERSECTION OF S1 AND S2 --->  {40, 50, 60}\n"
          ]
        }
      ]
    },
    {
      "cell_type": "markdown",
      "source": [
        "________________________________________________________________________________\n",
        "# 3.f WAP to find the S1 - S2.\n",
        "________________________________________________________________________________"
      ],
      "metadata": {
        "id": "YW9l2oxTeE_o"
      }
    },
    {
      "cell_type": "code",
      "source": [
        "S1 = set([10,20,30,40,50,60])\n",
        "S2 = set([40,50,60,70,80,90])\n",
        "print(\"ORIGINAL SET S1 ---> \",S1)\n",
        "print(\"ORIGINAL SET S2 ---> \",S2)\n",
        "print(\"DIFFERENCE OF S1 AND S2 IS --->\",S1-S2)"
      ],
      "metadata": {
        "colab": {
          "base_uri": "https://localhost:8080/"
        },
        "id": "_f_9lO6YePcm",
        "outputId": "e5089b1b-5ed3-4855-ce9a-86bf7fdd2243"
      },
      "execution_count": 12,
      "outputs": [
        {
          "output_type": "stream",
          "name": "stdout",
          "text": [
            "ORIGINAL SET S1 --->  {40, 10, 50, 20, 60, 30}\n",
            "ORIGINAL SET S2 --->  {70, 40, 80, 50, 90, 60}\n",
            "DIFFERENCE OF S1 AND S2 IS ---> {10, 20, 30}\n"
          ]
        }
      ]
    },
    {
      "cell_type": "markdown",
      "source": [
        "# **OR**"
      ],
      "metadata": {
        "id": "oqR50HUFekoA"
      }
    },
    {
      "cell_type": "code",
      "source": [
        "S1 = set([10,20,30,40,50,60])\n",
        "S2 = set([40,50,60,70,80,90])\n",
        "print(\"ORIGINAL SET S1 ---> \",S1)\n",
        "print(\"ORIGINAL SET S2 ---> \",S2)\n",
        "print(\"DIFFERENCE OF S1 AND S2 IS --->\",S1.difference(S2))"
      ],
      "metadata": {
        "colab": {
          "base_uri": "https://localhost:8080/"
        },
        "id": "uH5vEhJNejOD",
        "outputId": "856bf795-e784-4f5d-8d5d-0bf0cd861806"
      },
      "execution_count": 13,
      "outputs": [
        {
          "output_type": "stream",
          "name": "stdout",
          "text": [
            "ORIGINAL SET S1 --->  {40, 10, 50, 20, 60, 30}\n",
            "ORIGINAL SET S2 --->  {70, 40, 80, 50, 90, 60}\n",
            "DIFFERENCE OF S1 AND S2 IS ---> {10, 20, 30}\n"
          ]
        }
      ]
    }
  ]
}